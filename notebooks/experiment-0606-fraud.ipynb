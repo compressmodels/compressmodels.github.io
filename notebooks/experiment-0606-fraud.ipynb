{
 "cells": [
  {
   "cell_type": "code",
   "execution_count": 1,
   "metadata": {},
   "outputs": [
    {
     "name": "stdout",
     "output_type": "stream",
     "text": [
      "Requirement already satisfied: tabulate in /Users/samrandall/miniconda3/envs/moco-env/lib/python3.10/site-packages (0.9.0)\n",
      "Note: you may need to restart the kernel to use updated packages.\n"
     ]
    }
   ],
   "source": [
    "%pip install tabulate"
   ]
  },
  {
   "cell_type": "code",
   "execution_count": 2,
   "metadata": {},
   "outputs": [
    {
     "name": "stdout",
     "output_type": "stream",
     "text": [
      "Requirement already satisfied: tabulate in /Users/samrandall/miniconda3/envs/moco-env/lib/python3.10/site-packages (0.9.0)\n",
      "Requirement already satisfied: scikit-learn in /Users/samrandall/miniconda3/envs/moco-env/lib/python3.10/site-packages (1.7.0)\n",
      "Requirement already satisfied: matplotlib in /Users/samrandall/miniconda3/envs/moco-env/lib/python3.10/site-packages (3.10.3)\n",
      "Requirement already satisfied: pandas in /Users/samrandall/miniconda3/envs/moco-env/lib/python3.10/site-packages (2.3.0)\n",
      "Requirement already satisfied: numpy>=1.22.0 in /Users/samrandall/miniconda3/envs/moco-env/lib/python3.10/site-packages (from scikit-learn) (2.2.6)\n",
      "Requirement already satisfied: scipy>=1.8.0 in /Users/samrandall/miniconda3/envs/moco-env/lib/python3.10/site-packages (from scikit-learn) (1.15.3)\n",
      "Requirement already satisfied: joblib>=1.2.0 in /Users/samrandall/miniconda3/envs/moco-env/lib/python3.10/site-packages (from scikit-learn) (1.5.1)\n",
      "Requirement already satisfied: threadpoolctl>=3.1.0 in /Users/samrandall/miniconda3/envs/moco-env/lib/python3.10/site-packages (from scikit-learn) (3.6.0)\n",
      "Requirement already satisfied: contourpy>=1.0.1 in /Users/samrandall/miniconda3/envs/moco-env/lib/python3.10/site-packages (from matplotlib) (1.3.2)\n",
      "Requirement already satisfied: cycler>=0.10 in /Users/samrandall/miniconda3/envs/moco-env/lib/python3.10/site-packages (from matplotlib) (0.12.1)\n",
      "Requirement already satisfied: fonttools>=4.22.0 in /Users/samrandall/miniconda3/envs/moco-env/lib/python3.10/site-packages (from matplotlib) (4.58.3)\n",
      "Requirement already satisfied: kiwisolver>=1.3.1 in /Users/samrandall/miniconda3/envs/moco-env/lib/python3.10/site-packages (from matplotlib) (1.4.8)\n",
      "Requirement already satisfied: packaging>=20.0 in /Users/samrandall/miniconda3/envs/moco-env/lib/python3.10/site-packages (from matplotlib) (25.0)\n",
      "Requirement already satisfied: pillow>=8 in /Users/samrandall/miniconda3/envs/moco-env/lib/python3.10/site-packages (from matplotlib) (11.2.1)\n",
      "Requirement already satisfied: pyparsing>=2.3.1 in /Users/samrandall/miniconda3/envs/moco-env/lib/python3.10/site-packages (from matplotlib) (3.2.3)\n",
      "Requirement already satisfied: python-dateutil>=2.7 in /Users/samrandall/miniconda3/envs/moco-env/lib/python3.10/site-packages (from matplotlib) (2.9.0.post0)\n",
      "Requirement already satisfied: pytz>=2020.1 in /Users/samrandall/miniconda3/envs/moco-env/lib/python3.10/site-packages (from pandas) (2025.2)\n",
      "Requirement already satisfied: tzdata>=2022.7 in /Users/samrandall/miniconda3/envs/moco-env/lib/python3.10/site-packages (from pandas) (2025.2)\n",
      "Requirement already satisfied: six>=1.5 in /Users/samrandall/miniconda3/envs/moco-env/lib/python3.10/site-packages (from python-dateutil>=2.7->matplotlib) (1.17.0)\n",
      "Note: you may need to restart the kernel to use updated packages.\n"
     ]
    }
   ],
   "source": [
    "%pip install tabulate scikit-learn matplotlib pandas"
   ]
  },
  {
   "cell_type": "code",
   "execution_count": 3,
   "metadata": {},
   "outputs": [],
   "source": [
    "import moco"
   ]
  },
  {
   "cell_type": "code",
   "execution_count": 4,
   "metadata": {},
   "outputs": [],
   "source": [
    "# from experiment_fraud import load_dataset\n",
    "from sklearn.model_selection import train_test_split\n",
    "from sklearn.linear_model import LogisticRegression\n",
    "import matplotlib.pyplot as plt\n",
    "from sklearn.neural_network import MLPClassifier\n",
    "import pandas as pd\n",
    "import numpy as np\n",
    "from moco.early_exit_model import EarlyExitModel\n",
    "import pickle as pkl\n",
    "import time\n",
    "from sklearn.metrics import precision_recall_curve, precision_recall_fscore_support"
   ]
  },
  {
   "cell_type": "code",
   "execution_count": 5,
   "metadata": {},
   "outputs": [],
   "source": [
    "def load_dataset():\n",
    "    df = pd.read_csv('/Users/samrandall/Desktop/creditcard.csv')\n",
    "    X = df[[col for col in df.columns if col.startswith('V')]].to_numpy()\n",
    "    y = df['Class'].to_numpy()\n",
    "    return X, y"
   ]
  },
  {
   "cell_type": "code",
   "execution_count": 6,
   "metadata": {},
   "outputs": [
    {
     "data": {
      "text/plain": [
       "((213035, 28), (37595, 28), (34177, 28))"
      ]
     },
     "execution_count": 6,
     "metadata": {},
     "output_type": "execute_result"
    }
   ],
   "source": [
    "X, y = load_dataset()\n",
    "train_x, test_x, train_y, test_y = train_test_split(X, y, test_size = 0.12)\n",
    "train_x, val_x, train_y, val_y = train_test_split(train_x, train_y, test_size = 0.15)\n",
    "train_x.shape, val_x.shape, test_x.shape"
   ]
  },
  {
   "cell_type": "code",
   "execution_count": 7,
   "metadata": {},
   "outputs": [],
   "source": [
    "def find_p_r_combo_where_r_greater_than(x, y, model, recall_threshold: float):\n",
    "    probs = model.predict_proba(x)[:, 1]\n",
    "    precisions, recalls, thresholds = precision_recall_curve(y, probs)\n",
    "\n",
    "    precisions = precisions[:-1]\n",
    "    recalls = recalls[:-1]\n",
    "\n",
    "    mask = recalls >= recall_threshold\n",
    "\n",
    "    if np.any(mask):\n",
    "        # Among the qualifying points, pick the one with highest precision\n",
    "        best_idx = np.argmax(precisions[mask])\n",
    "        threshold = thresholds[mask][best_idx]\n",
    "        return threshold\n",
    "    else:\n",
    "        # No threshold can reach desired recall\n",
    "        return None\n"
   ]
  },
  {
   "cell_type": "code",
   "execution_count": 8,
   "metadata": {},
   "outputs": [],
   "source": [
    "architectures = [(16,), (32,), (64,), (128,), (256,), (512,), (64, 32), (128, 64), (256, 128)]\n",
    "models = {}\n",
    "for arch in architectures:\n",
    "    mlp = MLPClassifier(arch)\n",
    "    mlp.fit(train_x, train_y)\n",
    "    models[arch] = mlp"
   ]
  },
  {
   "cell_type": "code",
   "execution_count": 9,
   "metadata": {},
   "outputs": [],
   "source": [
    "rows = []\n",
    "for arch, mlp in models.items():\n",
    "    t = find_p_r_combo_where_r_greater_than(val_x, val_y, mlp, 0.75)\n",
    "    test_pred = mlp.predict_proba(test_x)[:, 1] > t\n",
    "    p, r, f, s = precision_recall_fscore_support(test_y, test_pred)\n",
    "\n",
    "    rows.append({\n",
    "        \"Architecture\": arch,\n",
    "        \"Precision\": p[1],\n",
    "        \"Recall\": r[1],\n",
    "        \"Fscore\": f[1],\n",
    "        \"Support\": s[1]\n",
    "    })\n",
    "\n",
    "\n",
    "    val_pred = mlp.predict_proba(val_x)[:, 1]\n",
    "    p, r, t = precision_recall_curve(val_y, val_pred)\n",
    "\n",
    "pr_results = pd.DataFrame(rows)\n",
    "pr_results.to_csv(\"pr_results.csv\")\n",
    "pr_results[[\"Architecture\", \"Precision\", \"Recall\"]].to_markdown('precision_recall.md')\n"
   ]
  },
  {
   "cell_type": "code",
   "execution_count": 10,
   "metadata": {},
   "outputs": [],
   "source": [
    "rows = []\n",
    "for arch, mlp in models.items():\n",
    "\n",
    "    eem = EarlyExitModel(mlp)\n",
    "    eem.add_linear_prediction_rule(train_x, (0,))\n",
    "\n",
    "    # Warmup.\n",
    "    for i in range(5):\n",
    "        b_predictions = mlp.predict(X)\n",
    "        eem.predict(X)\n",
    "\n",
    "    # Baseline\n",
    "    start = time.time()\n",
    "    baseline_times = []\n",
    "    for i in range(5):\n",
    "        s = time.time()\n",
    "        b_predictions = mlp.predict(X)\n",
    "        e = time.time()\n",
    "        baseline_times.append(e - s)\n",
    "\n",
    "    end = time.time()\n",
    "    baseline_time = (end - start) / 5\n",
    "\n",
    "    for i in range(5):\n",
    "        b_predictions = mlp.predict(X)\n",
    "        eem.predict(X)\n",
    "\n",
    "    # Experiment\n",
    "    start = time.time()\n",
    "    total_time = 0\n",
    "    experiment_times = []\n",
    "    for i in range(5):\n",
    "        s = time.time()\n",
    "        e_predictions = eem.predict(X)\n",
    "        e = time.time()\n",
    "        total_time += e - start\n",
    "        experiment_times.append(e - s)\n",
    "    \n",
    "    end = time.time()\n",
    "\n",
    "    experimental_time = (end - start) / 5\n",
    "    agreement = (b_predictions == e_predictions).mean()\n",
    "    rows.append({\"MLP Architecture\": arch,\n",
    "        \"sklearn MLP time (s)\": np.round(baseline_time, 6),\n",
    "        \"Gated MLP time (s)\": np.round(experimental_time, 6),\n",
    "        \"adherence\": agreement,\n",
    "        \"sklearn std\": np.std(baseline_times),\n",
    "        \"gated std\": np.std(experiment_times)\n",
    "    })\n",
    "\n",
    "results = pd.DataFrame(rows)\n",
    "\n",
    "\n",
    "results.to_csv('out.csv')\n"
   ]
  },
  {
   "cell_type": "code",
   "execution_count": 11,
   "metadata": {},
   "outputs": [
    {
     "name": "stderr",
     "output_type": "stream",
     "text": [
      "/var/folders/gk/4qpy_m5j67d9h1h0g9j07wzr0000gn/T/ipykernel_27208/4236618802.py:2: SettingWithCopyWarning: \n",
      "A value is trying to be set on a copy of a slice from a DataFrame.\n",
      "Try using .loc[row_indexer,col_indexer] = value instead\n",
      "\n",
      "See the caveats in the documentation: https://pandas.pydata.org/pandas-docs/stable/user_guide/indexing.html#returning-a-view-versus-a-copy\n",
      "  for_report['Speedup'] = for_report['sklearn MLP time (s)'] / for_report[\"Gated MLP time (s)\"]\n"
     ]
    }
   ],
   "source": [
    "for_report = results[[\"MLP Architecture\", \"sklearn MLP time (s)\", \"Gated MLP time (s)\", 'adherence']]\n",
    "for_report['Speedup'] = for_report['sklearn MLP time (s)'] / for_report[\"Gated MLP time (s)\"]\n",
    "for_report= for_report[[\"MLP Architecture\", \"sklearn MLP time (s)\", \"Gated MLP time (s)\", \"Speedup\", 'adherence']]\n",
    "for_report.to_markdown('output.md')"
   ]
  },
  {
   "cell_type": "code",
   "execution_count": 12,
   "metadata": {},
   "outputs": [
    {
     "data": {
      "text/html": [
       "<div>\n",
       "<style scoped>\n",
       "    .dataframe tbody tr th:only-of-type {\n",
       "        vertical-align: middle;\n",
       "    }\n",
       "\n",
       "    .dataframe tbody tr th {\n",
       "        vertical-align: top;\n",
       "    }\n",
       "\n",
       "    .dataframe thead th {\n",
       "        text-align: right;\n",
       "    }\n",
       "</style>\n",
       "<table border=\"1\" class=\"dataframe\">\n",
       "  <thead>\n",
       "    <tr style=\"text-align: right;\">\n",
       "      <th></th>\n",
       "      <th>MLP Architecture</th>\n",
       "      <th>sklearn MLP time (s)</th>\n",
       "      <th>Gated MLP time (s)</th>\n",
       "      <th>Speedup</th>\n",
       "      <th>adherence</th>\n",
       "    </tr>\n",
       "  </thead>\n",
       "  <tbody>\n",
       "    <tr>\n",
       "      <th>0</th>\n",
       "      <td>(16,)</td>\n",
       "      <td>0.020058</td>\n",
       "      <td>0.040558</td>\n",
       "      <td>0.494551</td>\n",
       "      <td>1.000000</td>\n",
       "    </tr>\n",
       "    <tr>\n",
       "      <th>1</th>\n",
       "      <td>(32,)</td>\n",
       "      <td>0.026208</td>\n",
       "      <td>0.039290</td>\n",
       "      <td>0.667040</td>\n",
       "      <td>0.999996</td>\n",
       "    </tr>\n",
       "    <tr>\n",
       "      <th>2</th>\n",
       "      <td>(64,)</td>\n",
       "      <td>0.053525</td>\n",
       "      <td>0.054338</td>\n",
       "      <td>0.985038</td>\n",
       "      <td>1.000000</td>\n",
       "    </tr>\n",
       "    <tr>\n",
       "      <th>3</th>\n",
       "      <td>(128,)</td>\n",
       "      <td>0.090559</td>\n",
       "      <td>0.052611</td>\n",
       "      <td>1.721294</td>\n",
       "      <td>0.999996</td>\n",
       "    </tr>\n",
       "    <tr>\n",
       "      <th>4</th>\n",
       "      <td>(256,)</td>\n",
       "      <td>0.176512</td>\n",
       "      <td>0.133290</td>\n",
       "      <td>1.324270</td>\n",
       "      <td>1.000000</td>\n",
       "    </tr>\n",
       "    <tr>\n",
       "      <th>5</th>\n",
       "      <td>(512,)</td>\n",
       "      <td>0.438908</td>\n",
       "      <td>0.367009</td>\n",
       "      <td>1.195905</td>\n",
       "      <td>1.000000</td>\n",
       "    </tr>\n",
       "    <tr>\n",
       "      <th>6</th>\n",
       "      <td>(64, 32)</td>\n",
       "      <td>0.067092</td>\n",
       "      <td>0.068520</td>\n",
       "      <td>0.979159</td>\n",
       "      <td>1.000000</td>\n",
       "    </tr>\n",
       "    <tr>\n",
       "      <th>7</th>\n",
       "      <td>(128, 64)</td>\n",
       "      <td>0.149170</td>\n",
       "      <td>0.131838</td>\n",
       "      <td>1.131464</td>\n",
       "      <td>0.999996</td>\n",
       "    </tr>\n",
       "    <tr>\n",
       "      <th>8</th>\n",
       "      <td>(256, 128)</td>\n",
       "      <td>0.308446</td>\n",
       "      <td>0.273897</td>\n",
       "      <td>1.126139</td>\n",
       "      <td>0.999996</td>\n",
       "    </tr>\n",
       "  </tbody>\n",
       "</table>\n",
       "</div>"
      ],
      "text/plain": [
       "  MLP Architecture  sklearn MLP time (s)  Gated MLP time (s)   Speedup  \\\n",
       "0            (16,)              0.020058            0.040558  0.494551   \n",
       "1            (32,)              0.026208            0.039290  0.667040   \n",
       "2            (64,)              0.053525            0.054338  0.985038   \n",
       "3           (128,)              0.090559            0.052611  1.721294   \n",
       "4           (256,)              0.176512            0.133290  1.324270   \n",
       "5           (512,)              0.438908            0.367009  1.195905   \n",
       "6         (64, 32)              0.067092            0.068520  0.979159   \n",
       "7        (128, 64)              0.149170            0.131838  1.131464   \n",
       "8       (256, 128)              0.308446            0.273897  1.126139   \n",
       "\n",
       "   adherence  \n",
       "0   1.000000  \n",
       "1   0.999996  \n",
       "2   1.000000  \n",
       "3   0.999996  \n",
       "4   1.000000  \n",
       "5   1.000000  \n",
       "6   1.000000  \n",
       "7   0.999996  \n",
       "8   0.999996  "
      ]
     },
     "execution_count": 12,
     "metadata": {},
     "output_type": "execute_result"
    }
   ],
   "source": [
    "for_report"
   ]
  },
  {
   "cell_type": "code",
   "execution_count": null,
   "metadata": {},
   "outputs": [],
   "source": []
  }
 ],
 "metadata": {
  "kernelspec": {
   "display_name": "moco-env",
   "language": "python",
   "name": "python3"
  },
  "language_info": {
   "codemirror_mode": {
    "name": "ipython",
    "version": 3
   },
   "file_extension": ".py",
   "mimetype": "text/x-python",
   "name": "python",
   "nbconvert_exporter": "python",
   "pygments_lexer": "ipython3",
   "version": "3.10.18"
  }
 },
 "nbformat": 4,
 "nbformat_minor": 2
}
